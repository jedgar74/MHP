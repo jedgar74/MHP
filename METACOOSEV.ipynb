{
 "cells": [
  {
   "cell_type": "markdown",
   "metadata": {},
   "source": [
    "# Metacooperativos. \n",
    "Ejecución en el problema de las N- reinas"
   ]
  },
  {
   "cell_type": "code",
   "execution_count": null,
   "metadata": {},
   "outputs": [],
   "source": [
    "from agent.Agent import * "
   ]
  },
  {
   "cell_type": "code",
   "execution_count": null,
   "metadata": {},
   "outputs": [],
   "source": [
    "from examples.NQueens import *"
   ]
  },
  {
   "cell_type": "code",
   "execution_count": null,
   "metadata": {},
   "outputs": [],
   "source": [
    "from statisticc.FriedmanImanHolm import *  "
   ]
  },
  {
   "cell_type": "code",
   "execution_count": null,
   "metadata": {},
   "outputs": [],
   "source": [
    "import copy"
   ]
  },
  {
   "cell_type": "code",
   "execution_count": null,
   "metadata": {},
   "outputs": [],
   "source": [
    "import numpy as np"
   ]
  },
  {
   "cell_type": "code",
   "execution_count": null,
   "metadata": {},
   "outputs": [],
   "source": [
    "def printer(instances, nameParameters) :    \n",
    "    i = 1\n",
    "    ranges = [ ]\n",
    "    ins = instances[0]\n",
    "\n",
    "    ranges.append( 0)\n",
    "    \n",
    "    while (i < len(instances)):\n",
    "        if ( ins != instances[i] ):\n",
    "            ranges.append( i)\n",
    "            ins = instances[i]\n",
    "            \n",
    "        i  =  i + 1 \n",
    "\n",
    "    for rd in range(len(ranges)):  \n",
    "        ini = ranges[rd] \n",
    "        fin = 0\n",
    "        if (rd < len(ranges) - 1):\n",
    "            fin = ranges[rd+1] \n",
    "        else :\n",
    "            fin = len(nameParameters) \n",
    "            \n",
    "            \n",
    "        print(\"\\n:: Instance :: \" + str(instances[ini]))\n",
    "        tmp =  len(nameParameters[ini].solutions)\n",
    "        print(\":: N. Experiment.:: \" + str(tmp)) \n",
    "        print(\"-----------------------------------\") \n",
    "        print('{: <24s}'.format(\"\"), end=\"\")\n",
    "        print('{: <9s}'.format(\"Better\"), end=\"\")\n",
    "        print('{: <9s}'.format(\"N.Bet.\"), end=\"\")\n",
    "        print('{: <9s}'.format('Mean'), end=\"\")\n",
    "        print('{: <9s}'.format(\"S.D.\"))\n",
    "        print(\"-----------------------------------\") \n",
    " \n",
    "        for r in range(ini, fin):\n",
    "            print('{: <24s}'.format(nameParameters[r].getLabel()), end=\"\")  \n",
    "            print('{: <9.4f}'.format(round(nameParameters[r].getBetter(), 4 )), end=\"\") \n",
    "            print('{: <9d}'.format(nameParameters[r].getNBetter() ), end=\"\")\n",
    "            ave = nameParameters[r].average()\n",
    "            print('{: <9.4f}'.format(round(ave, 4 )), end=\"\")\n",
    "            print('{: <9.4f}'.format(round(nameParameters[r].stDeviat(ave), 4 )))\n",
    " "
   ]
  },
  {
   "cell_type": "code",
   "execution_count": null,
   "metadata": {},
   "outputs": [],
   "source": [
    "def getMatrix(nameParameters) : \n",
    "    labels  = [ ]\n",
    "    for r in range(len(nameParameters) ):  \n",
    "        s = nameParameters[r].getLabel()\n",
    "        v = s.index(\"[\")\n",
    "        r = s[0:v] \n",
    "        if (not r in labels):\n",
    "            labels.append(r)     \n",
    "            \n",
    "    i = 1\n",
    "    ranges  = [ ]\n",
    "    ins = instances[0] \n",
    "    ranges.append( 0) \n",
    "    \n",
    "    while (i < len(instances)):\n",
    "        if ( ins != instances[i] ):\n",
    "            ranges.append( i)\n",
    "            ins = instances[i] \n",
    "        i  =  i + 1  \n",
    "    \n",
    "    val = len(nameParameters)//len(ranges) \n",
    "    \n",
    "    valuesx = np.zeros( (len(ranges), len(nameParameters)//len(ranges)) ) \n",
    "\n",
    " \n",
    "    for rd in range(len(ranges)):  \n",
    "        # print(ranges[rd])\t \n",
    "        ini = ranges[rd] * val \n",
    "        fin = ini + val -1\n",
    "\n",
    "        for r in range(ini, fin+1):\n",
    "            # print(str(rd)+\"  \"+str(r)+\"  \"+str(ini)+\"  \"+str(fin))\n",
    "            valuesx[rd][r-ini] =  round(nameParameters[r].average(), 4 )  \n",
    "\n",
    "    \n",
    "    return labels, valuesx"
   ]
  },
  {
   "cell_type": "code",
   "execution_count": null,
   "metadata": {},
   "outputs": [],
   "source": [
    "def fidh (typeProblem, labels, valuesx) :    \n",
    "    f = FriedmanImanHolm()  \n",
    "   \n",
    "    f.setLabels(labels)\n",
    "    f.setValues(valuesx) \n",
    "    f.setGraph(True)      \n",
    "    if (typeProblem == \"MIN\"):\n",
    "        f.minProblem() \n",
    "    else : \n",
    "        f.maxProblem()\n",
    "    info = f.getInfo()\n"
   ]
  },
  {
   "cell_type": "code",
   "execution_count": null,
   "metadata": {},
   "outputs": [],
   "source": [
    "typex = \"MIN\""
   ]
  },
  {
   "cell_type": "code",
   "execution_count": null,
   "metadata": {},
   "outputs": [],
   "source": [
    "instances = [ 10 , 12]\n",
    "nEvalsXInst = [5000, 7000]"
   ]
  },
  {
   "cell_type": "code",
   "execution_count": null,
   "metadata": {},
   "outputs": [],
   "source": [
    "#methods = [\"CooS\", \"CooS\", \"CooS\", \"CooS\", \"CooS\", \"CooS\", \"CooS\"]\n",
    "#configFiles = [\"COOP ALLGA\", \"COOP ALLGA O\", \"COOP ALLGA OFF\", \"COOP ALLGA OFF O\", \"COOP ALLGA OFF R\", \"COOP ALLGA R\", \"COOP ALLGA R2\"] "
   ]
  },
  {
   "cell_type": "code",
   "execution_count": null,
   "metadata": {},
   "outputs": [],
   "source": [
    "methods = [\"CooS\", \"CooS\", \"CooS\"]\n",
    "configFiles = [\"COOP ALLGA\", \"COOP ALLGA O\", \"COOP ALLGA OFF\"] "
   ]
  },
  {
   "cell_type": "code",
   "execution_count": null,
   "metadata": {},
   "outputs": [],
   "source": [
    "nExperiments = 30 "
   ]
  },
  {
   "cell_type": "code",
   "execution_count": null,
   "metadata": {},
   "outputs": [],
   "source": [
    "code = 0 "
   ]
  },
  {
   "cell_type": "code",
   "execution_count": null,
   "metadata": {},
   "outputs": [],
   "source": [
    " "
   ]
  },
  {
   "cell_type": "code",
   "execution_count": null,
   "metadata": {},
   "outputs": [],
   "source": [
    "nameParameters = [ ] \n",
    "nameinstances = [ ]"
   ]
  },
  {
   "cell_type": "code",
   "execution_count": null,
   "metadata": {},
   "outputs": [],
   "source": [
    "for j in range(len(instances)):  \n",
    "    problemv = NQueens(instances[j])\n",
    "    print(\"\\n--------instance------ \"+ str(instances[j]) ) \n",
    "    for i in range(len(methods)):    \n",
    "        print(\"\\n---------------------- \"+methods[i]+ \" --- \"+configFiles[i])\n",
    "        agent = Agent(problemv, [methods[i], configFiles[i], nEvalsXInst[j], nExperiments])\n",
    "        agent.init() \n",
    "        \n",
    "        # if (allSolution): \n",
    "        #     agent.info.printAllSolution()\n",
    "        \n",
    "        nameParameters.append(agent.stats) \n",
    "        nameinstances.append(instances[j]) "
   ]
  },
  {
   "cell_type": "code",
   "execution_count": null,
   "metadata": {},
   "outputs": [],
   "source": [
    "labels, matrix = getMatrix(nameParameters) "
   ]
  },
  {
   "cell_type": "code",
   "execution_count": null,
   "metadata": {},
   "outputs": [],
   "source": [
    "if (analysis):\n",
    "    printer(nameinstances, nameParameters)\n",
    "    labelsx = copy.deepcopy(labels)\n",
    "    fidh(\"MIN\", labelsx, matrix) "
   ]
  },
  {
   "cell_type": "code",
   "execution_count": null,
   "metadata": {},
   "outputs": [],
   "source": []
  },
  {
   "cell_type": "code",
   "execution_count": null,
   "metadata": {},
   "outputs": [],
   "source": []
  }
 ],
 "metadata": {
  "kernelspec": {
   "display_name": "Python 3 (ipykernel)",
   "language": "python",
   "name": "python3"
  },
  "language_info": {
   "codemirror_mode": {
    "name": "ipython",
    "version": 3
   },
   "file_extension": ".py",
   "mimetype": "text/x-python",
   "name": "python",
   "nbconvert_exporter": "python",
   "pygments_lexer": "ipython3",
   "version": "3.8.16"
  }
 },
 "nbformat": 4,
 "nbformat_minor": 4
}
